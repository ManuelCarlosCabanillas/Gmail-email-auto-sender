{
 "cells": [
  {
   "cell_type": "markdown",
   "id": "86b1c9ad",
   "metadata": {},
   "source": [
    "**IMPORTS**"
   ]
  },
  {
   "cell_type": "code",
   "execution_count": 1,
   "id": "ff21b7f8",
   "metadata": {},
   "outputs": [],
   "source": [
    "import time\n",
    "from selenium import webdriver\n",
    "from webdriver_manager.chrome import ChromeDriverManager"
   ]
  },
  {
   "cell_type": "markdown",
   "id": "a5169b53",
   "metadata": {},
   "source": [
    "**DRIVER INSTALL & URL INPUT (DON´T CHANGE!!!)**"
   ]
  },
  {
   "cell_type": "code",
   "execution_count": 2,
   "id": "c3f77044",
   "metadata": {
    "scrolled": true
   },
   "outputs": [
    {
     "name": "stderr",
     "output_type": "stream",
     "text": [
      "\n",
      "\n",
      "====== WebDriver manager ======\n",
      "Current google-chrome version is 96.0.4664\n",
      "Get LATEST chromedriver version for 96.0.4664 google-chrome\n",
      "Driver [C:\\Users\\manue\\.wdm\\drivers\\chromedriver\\win32\\96.0.4664.45\\chromedriver.exe] found in cache\n",
      "C:\\Users\\manue\\AppData\\Local\\Temp/ipykernel_17676/2864220120.py:2: DeprecationWarning: executable_path has been deprecated, please pass in a Service object\n",
      "  driver=webdriver.Chrome(PATH)\n"
     ]
    }
   ],
   "source": [
    "PATH=ChromeDriverManager().install()\n",
    "driver=webdriver.Chrome(PATH)\n",
    "#url = \"https://accounts.google.com/o/oauth2/auth/identifier?client_id=717762328687-iludtf96g1hinl76e4lc1b9a82g457nn.apps.googleusercontent.com&scope=profile%20email&redirect_uri=https%3A%2F%2Fstackauth.com%2Fauth%2Foauth2%2Fgoogle&state=%7B%22sid%22%3A1%2C%22st%22%3A%2259%3A3%3Abbc%2C16%3Ab46be548ba0c2b22%2C10%3A1627060492%2C16%3A09030757e8ecf391%2C7b9bdf228b74ed6ef5f76cb4ea89e15294d2a8c81bfc924447a8fe74c314f112%22%2C%22cdl%22%3Anull%2C%22cid%22%3A%22717762328687-iludtf96g1hinl76e4lc1b9a82g457nn.apps.googleusercontent.com%22%2C%22k%22%3A%22Google%22%2C%22ses%22%3A%2253b1724e2c8c46bb8fa328ba99f37fee%22%7D&response_type=code&hl=en&flowName=GeneralOAuthFlow\"\n",
    "url=\"https://thirdparty.aliexpress.com/login.htm?spm=a2g0o.best.0.0.693422aeDxl1C2&type=gg&return_url=https%3A%2F%2Fbest.aliexpress.com%2F%3Flan%3Des%26gatewayAdapt%3Dglo2esp%26gclid%3DCjwKCAiAv_KMBhAzEiwAs-rX1Fk4Jvs_sAOc7TdI2jgE4s4tu3kq_4GpQX5Dy059AAhoP9kc_LM6qxoCcCwQAvD_BwE\""
   ]
  },
  {
   "cell_type": "markdown",
   "id": "946b18bb",
   "metadata": {},
   "source": [
    "**GMAIL SENDER ACCOUNT INPUT**"
   ]
  },
  {
   "cell_type": "code",
   "execution_count": 3,
   "id": "0e7edb4a",
   "metadata": {},
   "outputs": [],
   "source": [
    "gmail_address = \"...\" # input here your email address - you need to open the security settings first \n",
    "gmail_password = \"...\""
   ]
  },
  {
   "cell_type": "markdown",
   "id": "9755fd36",
   "metadata": {},
   "source": [
    "**SELENIUM STUFF**"
   ]
  },
  {
   "cell_type": "code",
   "execution_count": 4,
   "id": "c09b3d70",
   "metadata": {
    "scrolled": false
   },
   "outputs": [],
   "source": [
    "driver.get(url)"
   ]
  },
  {
   "cell_type": "code",
   "execution_count": 5,
   "id": "79978a5f",
   "metadata": {},
   "outputs": [
    {
     "name": "stderr",
     "output_type": "stream",
     "text": [
      "C:\\Users\\manue\\AppData\\Local\\Temp/ipykernel_17676/150929133.py:1: DeprecationWarning: find_element_by_* commands are deprecated. Please use find_element() instead\n",
      "  emailinput =driver.find_element_by_xpath('//*[@id=\"identifierId\"]')\n",
      "C:\\Users\\manue\\AppData\\Local\\Temp/ipykernel_17676/150929133.py:6: DeprecationWarning: find_element_by_* commands are deprecated. Please use find_element() instead\n",
      "  nextbutton = driver.find_element_by_xpath('//*[@id=\"identifierNext\"]/div/button/span')\n"
     ]
    }
   ],
   "source": [
    "emailinput =driver.find_element_by_xpath('//*[@id=\"identifierId\"]') \n",
    "emailinput.send_keys(gmail_address) \n",
    "\n",
    "time.sleep(5)\n",
    "\n",
    "nextbutton = driver.find_element_by_xpath('//*[@id=\"identifierNext\"]/div/button/span') \n",
    "nextbutton.click()\n",
    "time.sleep(5)\n"
   ]
  },
  {
   "cell_type": "code",
   "execution_count": 6,
   "id": "5399d39f",
   "metadata": {},
   "outputs": [
    {
     "name": "stderr",
     "output_type": "stream",
     "text": [
      "C:\\Users\\manue\\AppData\\Local\\Temp/ipykernel_17676/361977057.py:1: DeprecationWarning: find_element_by_* commands are deprecated. Please use find_element() instead\n",
      "  passwordinput =driver.find_element_by_xpath('//*[@id=\"password\"]/div[1]/div/div[1]/input')\n",
      "C:\\Users\\manue\\AppData\\Local\\Temp/ipykernel_17676/361977057.py:5: DeprecationWarning: find_element_by_* commands are deprecated. Please use find_element() instead\n",
      "  nextbutton = driver.find_element_by_xpath('//*[@id=\"passwordNext\"]/div/button/span')\n"
     ]
    }
   ],
   "source": [
    "passwordinput =driver.find_element_by_xpath('//*[@id=\"password\"]/div[1]/div/div[1]/input') \n",
    "passwordinput.send_keys(gmail_password) \n",
    "time.sleep(5)\n",
    "\n",
    "nextbutton = driver.find_element_by_xpath('//*[@id=\"passwordNext\"]/div/button/span') \n",
    "nextbutton.click()\n",
    "time.sleep(5)\n"
   ]
  },
  {
   "cell_type": "code",
   "execution_count": 7,
   "id": "4a080ec3",
   "metadata": {},
   "outputs": [],
   "source": [
    "driver.get(\"https://www.gmail.com\")\n",
    "\n",
    "time.sleep(5)"
   ]
  },
  {
   "cell_type": "code",
   "execution_count": 8,
   "id": "efc730ef",
   "metadata": {
    "scrolled": false
   },
   "outputs": [
    {
     "name": "stderr",
     "output_type": "stream",
     "text": [
      "C:\\Users\\manue\\AppData\\Local\\Temp/ipykernel_17676/17807436.py:1: DeprecationWarning: find_element_by_* commands are deprecated. Please use find_element() instead\n",
      "  send_email=driver.find_element_by_xpath('/html/body/div[7]/div[3]/div/div[2]/div[1]/div[1]/div[1]/div/div/div/div[1]/div/div')\n"
     ]
    }
   ],
   "source": [
    "send_email=driver.find_element_by_xpath('/html/body/div[7]/div[3]/div/div[2]/div[1]/div[1]/div[1]/div/div/div/div[1]/div/div')\n",
    "send_email.click()\n",
    "time.sleep(5)"
   ]
  },
  {
   "cell_type": "markdown",
   "id": "4c285153",
   "metadata": {},
   "source": [
    "**INPUT EMAIL RECIPIENT**"
   ]
  },
  {
   "cell_type": "code",
   "execution_count": 9,
   "id": "8c96e27f",
   "metadata": {
    "scrolled": true
   },
   "outputs": [
    {
     "name": "stderr",
     "output_type": "stream",
     "text": [
      "C:\\Users\\manue\\AppData\\Local\\Temp/ipykernel_17676/2509229241.py:1: DeprecationWarning: find_element_by_* commands are deprecated. Please use find_element() instead\n",
      "  address=driver.find_element_by_xpath('//*[@id=\":a3\"]')\n"
     ]
    }
   ],
   "source": [
    "address=driver.find_element_by_xpath('//*[@id=\":a3\"]')\n",
    "address.send_keys(\"manuelcarlos.cabanillas@gmail.com\") # meter aquí el destinatario\n",
    "time.sleep(5)"
   ]
  },
  {
   "cell_type": "markdown",
   "id": "bf7cb00c",
   "metadata": {},
   "source": [
    "**INPUT EMAIL SUBJECT**"
   ]
  },
  {
   "cell_type": "code",
   "execution_count": 10,
   "id": "32ef3eb3",
   "metadata": {
    "scrolled": true
   },
   "outputs": [
    {
     "name": "stderr",
     "output_type": "stream",
     "text": [
      "C:\\Users\\manue\\AppData\\Local\\Temp/ipykernel_17676/3703950950.py:1: DeprecationWarning: find_element_by_* commands are deprecated. Please use find_element() instead\n",
      "  subject=driver.find_element_by_xpath('//*[@id=\":9l\"]')\n"
     ]
    }
   ],
   "source": [
    "subject=driver.find_element_by_xpath('//*[@id=\":9l\"]')\n",
    "subject.send_keys(\"aqui va el cuerpo del mensaje\")                                         #\n",
    "time.sleep(5)"
   ]
  },
  {
   "cell_type": "markdown",
   "id": "57f67607",
   "metadata": {},
   "source": [
    "**INPUT EMAIL BODY**"
   ]
  },
  {
   "cell_type": "code",
   "execution_count": 11,
   "id": "594d20af",
   "metadata": {
    "scrolled": true
   },
   "outputs": [
    {
     "name": "stderr",
     "output_type": "stream",
     "text": [
      "C:\\Users\\manue\\AppData\\Local\\Temp/ipykernel_17676/3833583622.py:1: DeprecationWarning: find_element_by_* commands are deprecated. Please use find_element() instead\n",
      "  subject=driver.find_element_by_xpath('//*[@id=\":ar\"]')\n"
     ]
    }
   ],
   "source": [
    "subject=driver.find_element_by_xpath('//*[@id=\":ar\"]')\n",
    "subject.send_keys(\"mete el mensaje aquí\")\n",
    "time.sleep(5)"
   ]
  },
  {
   "cell_type": "code",
   "execution_count": 12,
   "id": "02c92498",
   "metadata": {},
   "outputs": [
    {
     "name": "stderr",
     "output_type": "stream",
     "text": [
      "C:\\Users\\manue\\AppData\\Local\\Temp/ipykernel_17676/3900079687.py:1: DeprecationWarning: find_element_by_* commands are deprecated. Please use find_element() instead\n",
      "  send=driver.find_element_by_xpath('//*[@id=\":9b\"]')\n"
     ]
    }
   ],
   "source": [
    "send=driver.find_element_by_xpath('//*[@id=\":9b\"]')\n",
    "send.click()\n",
    "time.sleep(5)"
   ]
  },
  {
   "cell_type": "code",
   "execution_count": 13,
   "id": "ca3ef94c",
   "metadata": {},
   "outputs": [],
   "source": [
    "driver.quit()"
   ]
  },
  {
   "cell_type": "code",
   "execution_count": null,
   "id": "56d90f4f",
   "metadata": {},
   "outputs": [],
   "source": []
  }
 ],
 "metadata": {
  "kernelspec": {
   "display_name": "Python 3 (ipykernel)",
   "language": "python",
   "name": "python3"
  },
  "language_info": {
   "codemirror_mode": {
    "name": "ipython",
    "version": 3
   },
   "file_extension": ".py",
   "mimetype": "text/x-python",
   "name": "python",
   "nbconvert_exporter": "python",
   "pygments_lexer": "ipython3",
   "version": "3.8.11"
  }
 },
 "nbformat": 4,
 "nbformat_minor": 5
}
