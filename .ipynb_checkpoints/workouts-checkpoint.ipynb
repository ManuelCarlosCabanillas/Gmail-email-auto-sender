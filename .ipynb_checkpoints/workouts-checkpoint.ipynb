{
 "cells": [
  {
   "cell_type": "markdown",
   "id": "a0bf9937",
   "metadata": {},
   "source": [
    "**Public endpoints**\n",
    "\n",
    "daysofweek\n",
    "\n",
    "equipment\n",
    "\n",
    "exercise\n",
    "\n",
    "exerciseinfo\n",
    "\n",
    "exercisecategory\n",
    "\n",
    "exercisecomment\n",
    "\n",
    "exerciseimage\n",
    "\n",
    "ingredient\n",
    "\n",
    "ingredientinfo\n",
    "\n",
    "ingredienttoweightunit\n",
    "\n",
    "language\n",
    "\n",
    "license\n",
    "\n",
    "muscle\n",
    "\n",
    "weightunit\n",
    "\n",
    "setting-repetitionunit\n",
    "\n",
    "setting-weightunit"
   ]
  },
  {
   "cell_type": "code",
   "execution_count": null,
   "id": "5b88ccaa",
   "metadata": {},
   "outputs": [],
   "source": []
  },
  {
   "cell_type": "code",
   "execution_count": null,
   "id": "4e6ea1a0",
   "metadata": {},
   "outputs": [],
   "source": []
  }
 ],
 "metadata": {
  "kernelspec": {
   "display_name": "Python 3 (ipykernel)",
   "language": "python",
   "name": "python3"
  },
  "language_info": {
   "codemirror_mode": {
    "name": "ipython",
    "version": 3
   },
   "file_extension": ".py",
   "mimetype": "text/x-python",
   "name": "python",
   "nbconvert_exporter": "python",
   "pygments_lexer": "ipython3",
   "version": "3.8.11"
  }
 },
 "nbformat": 4,
 "nbformat_minor": 5
}
